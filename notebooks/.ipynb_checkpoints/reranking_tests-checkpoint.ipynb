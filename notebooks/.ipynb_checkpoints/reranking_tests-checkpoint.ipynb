{
 "cells": [
  {
   "cell_type": "code",
   "execution_count": 1,
   "id": "24c60e95-2bf4-4a8d-91de-7ec54313248f",
   "metadata": {},
   "outputs": [
    {
     "name": "stderr",
     "output_type": "stream",
     "text": [
      "/usr/local/lib/python3.10/dist-packages/tqdm/auto.py:21: TqdmWarning: IProgress not found. Please update jupyter and ipywidgets. See https://ipywidgets.readthedocs.io/en/stable/user_install.html\n",
      "  from .autonotebook import tqdm as notebook_tqdm\n"
     ]
    }
   ],
   "source": [
    "import torch\n",
    "import torch.nn.functional as F\n",
    "from transformers import AutoModelForSequenceClassification, AutoTokenizer\n",
    "from json import dumps as to_json"
   ]
  },
  {
   "cell_type": "code",
   "execution_count": 2,
   "id": "5b45fa69-8d62-4186-af3c-7b8cb505038e",
   "metadata": {},
   "outputs": [],
   "source": [
    "DEVICE = torch.device(\"cuda\" if torch.cuda.is_available() else \"cpu\")"
   ]
  },
  {
   "cell_type": "code",
   "execution_count": 3,
   "id": "124099e5-bf27-4f96-8d15-510cb765eaf1",
   "metadata": {},
   "outputs": [],
   "source": [
    "tokenizer = AutoTokenizer.from_pretrained('LiYuan/amazon-query-product-ranking')\n",
    "model = AutoModelForSequenceClassification.from_pretrained('LiYuan/amazon-query-product-ranking').to(DEVICE)"
   ]
  },
  {
   "cell_type": "code",
   "execution_count": 4,
   "id": "8a0920d5-6cb2-44fe-9ad4-3d1f276dae56",
   "metadata": {},
   "outputs": [],
   "source": [
    "passages = [\"15x7 universal wheel\",\"17 inch wleel\",\"4x100 15x7 wheel\",\"wheel\",\"Washington D.C.\",\"mouse trap\",\"model plane\",\"cheeseburgers might be unhealthy, but they sure are tasty!\"]\n",
    "query = [\"4x100 wheel 15in\"]*len(passages)\n",
    "inputs = tokenizer(query, passages, padding=True, truncation=True, return_tensors='pt', max_length=512).to(DEVICE)"
   ]
  },
  {
   "cell_type": "code",
   "execution_count": 5,
   "id": "50aeedef-556d-4eda-9f2e-454807a91655",
   "metadata": {},
   "outputs": [],
   "source": [
    "with torch.no_grad():\n",
    "    logits = model(**inputs).logits\n",
    "    probs = F.softmax(logits, dim=-1)\n",
    "    probs_is_okay = torch.sum(probs[:,:2],1)\n",
    "    probs_is_perfect = probs[:,0]\n",
    "    rankings_thresh_perfect = torch.argsort(probs_is_perfect,dim=0,descending=True).tolist()\n",
    "    rankings_thresh_okay = torch.argsort(probs_is_okay,dim=0,descending=True).tolist()    "
   ]
  },
  {
   "cell_type": "code",
   "execution_count": 6,
   "id": "7bc63b8b-b390-45e8-8b4f-3ec9a02a9f47",
   "metadata": {},
   "outputs": [
    {
     "name": "stdout",
     "output_type": "stream",
     "text": [
      "RANKINGS PASSAGE INDEX\n",
      "All Probs:\n",
      "  tensor([[0.2226, 0.6718, 0.0069, 0.0988],\n",
      "        [0.1434, 0.5626, 0.0203, 0.2736],\n",
      "        [0.8167, 0.1502, 0.0045, 0.0286],\n",
      "        [0.1641, 0.6660, 0.0073, 0.1626],\n",
      "        [0.1847, 0.2299, 0.0244, 0.5610],\n",
      "        [0.1862, 0.2462, 0.0400, 0.5276],\n",
      "        [0.1571, 0.2369, 0.0295, 0.5765],\n",
      "        [0.1146, 0.1555, 0.0214, 0.7085]], device='cuda:0')\n",
      "Threshold perfect:\n",
      "  [2, 0, 5, 4, 3, 6, 1, 7]\n",
      "Threshold okay:\n",
      "  [2, 0, 3, 1, 5, 4, 6, 7]\n",
      "\n"
     ]
    }
   ],
   "source": [
    "print(f\"\"\"RANKINGS PASSAGE INDEX\n",
    "All Probs:\n",
    "  {probs}\n",
    "Threshold perfect:\n",
    "  {rankings_thresh_perfect}\n",
    "Threshold okay:\n",
    "  {rankings_thresh_okay}\n",
    "\"\"\")"
   ]
  },
  {
   "cell_type": "code",
   "execution_count": 7,
   "id": "061ea847-9e27-4866-8e0e-2252bc85f9d5",
   "metadata": {},
   "outputs": [],
   "source": [
    "ranked_metadata_perfect = [{\"score\":float(probs_is_perfect[i]),\"text\":passages[i]} for i in rankings_thresh_perfect]\n",
    "ranked_metadata_okay = [{\"score\":float(probs_is_okay[i]),\"text\":passages[i]} for i in rankings_thresh_okay]"
   ]
  },
  {
   "cell_type": "code",
   "execution_count": 8,
   "id": "07f25680-1927-4572-bfdd-7f9e823a7476",
   "metadata": {},
   "outputs": [
    {
     "name": "stdout",
     "output_type": "stream",
     "text": [
      "RANKINGS FULL METADATA\n",
      "\n",
      "#################################################################################\n",
      "\n",
      "Threshold perfect:\n",
      "\n",
      "[\n",
      "  {\n",
      "    \"score\": 0.8166823983192444,\n",
      "    \"text\": \"4x100 15x7 wheel\"\n",
      "  },\n",
      "  {\n",
      "    \"score\": 0.22256851196289062,\n",
      "    \"text\": \"15x7 universal wheel\"\n",
      "  },\n",
      "  {\n",
      "    \"score\": 0.18616242706775665,\n",
      "    \"text\": \"mouse trap\"\n",
      "  },\n",
      "  {\n",
      "    \"score\": 0.18468773365020752,\n",
      "    \"text\": \"Washington D.C.\"\n",
      "  },\n",
      "  {\n",
      "    \"score\": 0.16410930454730988,\n",
      "    \"text\": \"wheel\"\n",
      "  },\n",
      "  {\n",
      "    \"score\": 0.1570894718170166,\n",
      "    \"text\": \"model plane\"\n",
      "  },\n",
      "  {\n",
      "    \"score\": 0.1434362232685089,\n",
      "    \"text\": \"17 inch wleel\"\n",
      "  },\n",
      "  {\n",
      "    \"score\": 0.11463627219200134,\n",
      "    \"text\": \"cheeseburgers might be unhealthy, but they sure are tasty!\"\n",
      "  }\n",
      "]\n",
      "\n",
      "#################################################################################\n",
      "\n",
      "Threshold okay:\n",
      "\n",
      "[\n",
      "  {\n",
      "    \"score\": 0.9668986201286316,\n",
      "    \"text\": \"4x100 15x7 wheel\"\n",
      "  },\n",
      "  {\n",
      "    \"score\": 0.8943306803703308,\n",
      "    \"text\": \"15x7 universal wheel\"\n",
      "  },\n",
      "  {\n",
      "    \"score\": 0.8301026821136475,\n",
      "    \"text\": \"wheel\"\n",
      "  },\n",
      "  {\n",
      "    \"score\": 0.7060592174530029,\n",
      "    \"text\": \"17 inch wleel\"\n",
      "  },\n",
      "  {\n",
      "    \"score\": 0.4323575496673584,\n",
      "    \"text\": \"mouse trap\"\n",
      "  },\n",
      "  {\n",
      "    \"score\": 0.4145834445953369,\n",
      "    \"text\": \"Washington D.C.\"\n",
      "  },\n",
      "  {\n",
      "    \"score\": 0.39396363496780396,\n",
      "    \"text\": \"model plane\"\n",
      "  },\n",
      "  {\n",
      "    \"score\": 0.2700982689857483,\n",
      "    \"text\": \"cheeseburgers might be unhealthy, but they sure are tasty!\"\n",
      "  }\n",
      "]\n",
      "\n"
     ]
    }
   ],
   "source": [
    "print(f\"\"\"RANKINGS FULL METADATA\n",
    "\n",
    "{\"###\"*27}\n",
    "\n",
    "Threshold perfect:\n",
    "\n",
    "{to_json(ranked_metadata_perfect,indent=2)}\n",
    "\n",
    "{\"###\"*27}\n",
    "\n",
    "Threshold okay:\n",
    "\n",
    "{to_json(ranked_metadata_okay,indent=2)}\n",
    "\"\"\")"
   ]
  }
 ],
 "metadata": {
  "kernelspec": {
   "display_name": "Python 3 (ipykernel)",
   "language": "python",
   "name": "python3"
  },
  "language_info": {
   "codemirror_mode": {
    "name": "ipython",
    "version": 3
   },
   "file_extension": ".py",
   "mimetype": "text/x-python",
   "name": "python",
   "nbconvert_exporter": "python",
   "pygments_lexer": "ipython3",
   "version": "3.10.12"
  }
 },
 "nbformat": 4,
 "nbformat_minor": 5
}
