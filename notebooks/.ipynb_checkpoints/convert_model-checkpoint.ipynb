{
 "cells": [
  {
   "cell_type": "code",
   "execution_count": 2,
   "id": "50d7e9ab-202a-423a-94e9-406b91d3bbad",
   "metadata": {},
   "outputs": [],
   "source": [
    "from torch.cuda import device_count"
   ]
  },
  {
   "cell_type": "code",
   "execution_count": 3,
   "id": "8680e406-c402-49ab-961b-250ca175ddba",
   "metadata": {},
   "outputs": [
    {
     "data": {
      "text/plain": [
       "1"
      ]
     },
     "execution_count": 3,
     "metadata": {},
     "output_type": "execute_result"
    }
   ],
   "source": [
    "device_count()"
   ]
  },
  {
   "cell_type": "code",
   "execution_count": 4,
   "id": "e2d80e46-0927-421b-b7d8-9cd060bf9541",
   "metadata": {},
   "outputs": [
    {
     "name": "stdout",
     "output_type": "stream",
     "text": [
      "a\n"
     ]
    }
   ],
   "source": [
    "print(\"a\")"
   ]
  },
  {
   "cell_type": "code",
   "execution_count": null,
   "id": "f599987f-d674-4839-8fcd-2c942fa33b9f",
   "metadata": {},
   "outputs": [],
   "source": []
  }
 ],
 "metadata": {
  "kernelspec": {
   "display_name": "Python 3 (ipykernel)",
   "language": "python",
   "name": "python3"
  },
  "language_info": {
   "codemirror_mode": {
    "name": "ipython",
    "version": 3
   },
   "file_extension": ".py",
   "mimetype": "text/x-python",
   "name": "python",
   "nbconvert_exporter": "python",
   "pygments_lexer": "ipython3",
   "version": "3.10.12"
  }
 },
 "nbformat": 4,
 "nbformat_minor": 5
}
