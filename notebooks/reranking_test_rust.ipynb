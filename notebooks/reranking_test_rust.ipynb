{
 "cells": [
  {
   "cell_type": "code",
   "execution_count": 6,
   "id": "5dcca9a7-f958-4043-8a38-79ec9f5dd7ba",
   "metadata": {},
   "outputs": [],
   "source": [
    ":dep rust-bert = \"0.21.0\""
   ]
  },
  {
   "cell_type": "code",
   "execution_count": 7,
   "id": "7755b2d2-8a70-4e6c-a3ff-5c310406774e",
   "metadata": {},
   "outputs": [],
   "source": [
    "use rust_bert::bert::BertForSequenceClassification;"
   ]
  },
  {
   "cell_type": "code",
   "execution_count": null,
   "id": "9488c17a-e333-41da-8e95-4275921fbc7e",
   "metadata": {},
   "outputs": [],
   "source": []
  }
 ],
 "metadata": {
  "kernelspec": {
   "display_name": "Rust",
   "language": "rust",
   "name": "rust"
  },
  "language_info": {
   "codemirror_mode": "rust",
   "file_extension": ".rs",
   "mimetype": "text/rust",
   "name": "Rust",
   "pygment_lexer": "rust",
   "version": ""
  }
 },
 "nbformat": 4,
 "nbformat_minor": 5
}
